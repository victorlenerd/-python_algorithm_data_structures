{
 "cells": [
  {
   "cell_type": "markdown",
   "metadata": {},
   "source": [
    "# Closest Pair"
   ]
  },
  {
   "cell_type": "markdown",
   "metadata": {},
   "source": [
    "The closest pair problem concerns points\n",
    "$\\ (x, y)\\in {\\Bbb R}^2$\n",
    "in the plane. To measure the distance between two points\n",
    "$\\ p1 = (x1, y1)$ and $\\ p2 = (x2, y2) $\n",
    "we use the usual Eculidean (straight-line) distance:\n",
    "$\\ d(p1, p2) = \\sqrt{(x1-x2)^2 + (y1-y2)^2}$\n"
   ]
  },
  {
   "cell_type": "markdown",
   "metadata": {},
   "source": [
    "**Input:** $\\ n \\geq 2$ points $p1 = (x1, y1),...,pn = (xn, yn)$ in the plane."
   ]
  },
  {
   "cell_type": "markdown",
   "metadata": {},
   "source": [
    "**Output:** The pair $\\ pi, pj$ of points with smallest Eculidean distance $\\ d(pi, pj)$."
   ]
  },
  {
   "cell_type": "markdown",
   "metadata": {},
   "source": [
    "## Approach One: Brute Force"
   ]
  },
  {
   "cell_type": "code",
   "execution_count": 1,
   "metadata": {},
   "outputs": [],
   "source": [
    "import random\n",
    "import math\n",
    "import sys\n",
    "from typing import List, Tuple, Dict\n",
    "\n",
    "random.seed(5)\n",
    "\n",
    "def generate_input(n: int) -> List[Tuple[int, int]]:\n",
    "    \n",
    "    inputs: List[Tuple[int, int]] = []\n",
    "        \n",
    "    for i in range(n):\n",
    "        inputs.append((random.randint(0, n), random.randint(0, n)))\n",
    "\n",
    "    return inputs"
   ]
  },
  {
   "cell_type": "code",
   "execution_count": 2,
   "metadata": {},
   "outputs": [],
   "source": [
    "data = generate_input(7)"
   ]
  },
  {
   "cell_type": "code",
   "execution_count": 3,
   "metadata": {},
   "outputs": [],
   "source": [
    "def distance(p1: Tuple[int, int], p2: Tuple[int, int]) -> float:\n",
    "    (x1, y1) = p1\n",
    "    (x2, y2) = p2\n",
    "    \n",
    "    return math.sqrt(math.pow(x1 - x2, 2) + math.pow(y1 - y2, 2))"
   ]
  },
  {
   "cell_type": "code",
   "execution_count": 4,
   "metadata": {},
   "outputs": [],
   "source": [
    "def closest_pair_brute_force(data: List[Tuple[int, int]]) -> Tuple[Tuple[int, int], Tuple[int, int]]:\n",
    "    \n",
    "    points: Tuple[Tuple[int, int], Tuple[int, int]] = ()\n",
    "    distances = []\n",
    "    closest_distance: int = sys.maxsize\n",
    "        \n",
    "    for p1 in data:\n",
    "        for p2 in data: \n",
    "            (x1, y1) = p1\n",
    "            (x2, y2) = p2\n",
    "            \n",
    "            if x1 != x2 or y1 != y2:\n",
    "                d = distance(p1, p2)\n",
    "                \n",
    "                distances.append((d, p1, p2))\n",
    "                \n",
    "                if d < closest_distance:\n",
    "                    closest_distance = d\n",
    "                    points = (p1, p2)\n",
    "    \n",
    "    distances.sort(key=lambda x: x[0])\n",
    "    \n",
    "    return points"
   ]
  },
  {
   "cell_type": "code",
   "execution_count": 5,
   "metadata": {},
   "outputs": [
    {
     "data": {
      "text/plain": [
       "((4, 5), (3, 6))"
      ]
     },
     "execution_count": 5,
     "metadata": {},
     "output_type": "execute_result"
    }
   ],
   "source": [
    "closest_pair_brute_force(data)"
   ]
  },
  {
   "cell_type": "markdown",
   "metadata": {},
   "source": [
    "## Approach Two: Divide-and-Conquer"
   ]
  },
  {
   "cell_type": "code",
   "execution_count": 6,
   "metadata": {
    "pycharm": {
     "name": "#%%\n"
    }
   },
   "outputs": [
    {
     "ename": "IndexError",
     "evalue": "list index out of range",
     "output_type": "error",
     "traceback": [
      "\u001B[0;31m---------------------------------------------------------------------------\u001B[0m",
      "\u001B[0;31mIndexError\u001B[0m                                Traceback (most recent call last)",
      "\u001B[0;32m<ipython-input-6-3cbf46447ae3>\u001B[0m in \u001B[0;36m<module>\u001B[0;34m\u001B[0m\n\u001B[1;32m     50\u001B[0m \u001B[0;34m\u001B[0m\u001B[0m\n\u001B[1;32m     51\u001B[0m \u001B[0;34m[\u001B[0m\u001B[0mdx\u001B[0m\u001B[0;34m,\u001B[0m \u001B[0mdy\u001B[0m\u001B[0;34m]\u001B[0m \u001B[0;34m=\u001B[0m \u001B[0msort_points\u001B[0m\u001B[0;34m(\u001B[0m\u001B[0mdata\u001B[0m\u001B[0;34m)\u001B[0m\u001B[0;34m\u001B[0m\u001B[0;34m\u001B[0m\u001B[0m\n\u001B[0;32m---> 52\u001B[0;31m \u001B[0mclosest_pair_divide_n_conquer\u001B[0m\u001B[0;34m(\u001B[0m\u001B[0mdx\u001B[0m\u001B[0;34m,\u001B[0m \u001B[0mdy\u001B[0m\u001B[0;34m)\u001B[0m\u001B[0;34m\u001B[0m\u001B[0;34m\u001B[0m\u001B[0m\n\u001B[0m",
      "\u001B[0;32m<ipython-input-6-3cbf46447ae3>\u001B[0m in \u001B[0;36mclosest_pair_divide_n_conquer\u001B[0;34m(px, py)\u001B[0m\n\u001B[1;32m     43\u001B[0m     \u001B[0mRy\u001B[0m \u001B[0;34m=\u001B[0m \u001B[0mpy\u001B[0m\u001B[0;34m[\u001B[0m\u001B[0mhalf\u001B[0m\u001B[0;34m:\u001B[0m\u001B[0;34m]\u001B[0m\u001B[0;34m\u001B[0m\u001B[0;34m\u001B[0m\u001B[0m\n\u001B[1;32m     44\u001B[0m \u001B[0;34m\u001B[0m\u001B[0m\n\u001B[0;32m---> 45\u001B[0;31m     \u001B[0;34m(\u001B[0m\u001B[0ml1\u001B[0m\u001B[0;34m,\u001B[0m \u001B[0ml2\u001B[0m\u001B[0;34m)\u001B[0m \u001B[0;34m=\u001B[0m \u001B[0mclosest_pair_divide_n_conquer\u001B[0m\u001B[0;34m(\u001B[0m\u001B[0mLx\u001B[0m\u001B[0;34m,\u001B[0m \u001B[0mLy\u001B[0m\u001B[0;34m)\u001B[0m\u001B[0;34m\u001B[0m\u001B[0;34m\u001B[0m\u001B[0m\n\u001B[0m\u001B[1;32m     46\u001B[0m     \u001B[0;34m(\u001B[0m\u001B[0mr1\u001B[0m\u001B[0;34m,\u001B[0m \u001B[0mr2\u001B[0m\u001B[0;34m)\u001B[0m \u001B[0;34m=\u001B[0m \u001B[0mclosest_pair_divide_n_conquer\u001B[0m\u001B[0;34m(\u001B[0m\u001B[0mRx\u001B[0m\u001B[0;34m,\u001B[0m \u001B[0mRy\u001B[0m\u001B[0;34m)\u001B[0m\u001B[0;34m\u001B[0m\u001B[0;34m\u001B[0m\u001B[0m\n\u001B[1;32m     47\u001B[0m \u001B[0;34m\u001B[0m\u001B[0m\n",
      "\u001B[0;32m<ipython-input-6-3cbf46447ae3>\u001B[0m in \u001B[0;36mclosest_pair_divide_n_conquer\u001B[0;34m(px, py)\u001B[0m\n\u001B[1;32m     43\u001B[0m     \u001B[0mRy\u001B[0m \u001B[0;34m=\u001B[0m \u001B[0mpy\u001B[0m\u001B[0;34m[\u001B[0m\u001B[0mhalf\u001B[0m\u001B[0;34m:\u001B[0m\u001B[0;34m]\u001B[0m\u001B[0;34m\u001B[0m\u001B[0;34m\u001B[0m\u001B[0m\n\u001B[1;32m     44\u001B[0m \u001B[0;34m\u001B[0m\u001B[0m\n\u001B[0;32m---> 45\u001B[0;31m     \u001B[0;34m(\u001B[0m\u001B[0ml1\u001B[0m\u001B[0;34m,\u001B[0m \u001B[0ml2\u001B[0m\u001B[0;34m)\u001B[0m \u001B[0;34m=\u001B[0m \u001B[0mclosest_pair_divide_n_conquer\u001B[0m\u001B[0;34m(\u001B[0m\u001B[0mLx\u001B[0m\u001B[0;34m,\u001B[0m \u001B[0mLy\u001B[0m\u001B[0;34m)\u001B[0m\u001B[0;34m\u001B[0m\u001B[0;34m\u001B[0m\u001B[0m\n\u001B[0m\u001B[1;32m     46\u001B[0m     \u001B[0;34m(\u001B[0m\u001B[0mr1\u001B[0m\u001B[0;34m,\u001B[0m \u001B[0mr2\u001B[0m\u001B[0;34m)\u001B[0m \u001B[0;34m=\u001B[0m \u001B[0mclosest_pair_divide_n_conquer\u001B[0m\u001B[0;34m(\u001B[0m\u001B[0mRx\u001B[0m\u001B[0;34m,\u001B[0m \u001B[0mRy\u001B[0m\u001B[0;34m)\u001B[0m\u001B[0;34m\u001B[0m\u001B[0;34m\u001B[0m\u001B[0m\n\u001B[1;32m     47\u001B[0m \u001B[0;34m\u001B[0m\u001B[0m\n",
      "\u001B[0;32m<ipython-input-6-3cbf46447ae3>\u001B[0m in \u001B[0;36mclosest_pair_divide_n_conquer\u001B[0;34m(px, py)\u001B[0m\n\u001B[1;32m     30\u001B[0m     \u001B[0;32mif\u001B[0m \u001B[0mis_base_case\u001B[0m\u001B[0;34m:\u001B[0m\u001B[0;34m\u001B[0m\u001B[0;34m\u001B[0m\u001B[0m\n\u001B[1;32m     31\u001B[0m \u001B[0;34m\u001B[0m\u001B[0m\n\u001B[0;32m---> 32\u001B[0;31m         \u001B[0;34m(\u001B[0m\u001B[0mpx1\u001B[0m\u001B[0;34m,\u001B[0m \u001B[0mpx2\u001B[0m\u001B[0;34m)\u001B[0m \u001B[0;34m=\u001B[0m \u001B[0mget_best_pair\u001B[0m\u001B[0;34m(\u001B[0m\u001B[0mpx\u001B[0m\u001B[0;34m)\u001B[0m\u001B[0;34m\u001B[0m\u001B[0;34m\u001B[0m\u001B[0m\n\u001B[0m\u001B[1;32m     33\u001B[0m         \u001B[0;34m(\u001B[0m\u001B[0mpy1\u001B[0m\u001B[0;34m,\u001B[0m \u001B[0mpy2\u001B[0m\u001B[0;34m)\u001B[0m \u001B[0;34m=\u001B[0m \u001B[0mget_best_pair\u001B[0m\u001B[0;34m(\u001B[0m\u001B[0mpy\u001B[0m\u001B[0;34m)\u001B[0m\u001B[0;34m\u001B[0m\u001B[0;34m\u001B[0m\u001B[0m\n\u001B[1;32m     34\u001B[0m \u001B[0;34m\u001B[0m\u001B[0m\n",
      "\u001B[0;32m<ipython-input-6-3cbf46447ae3>\u001B[0m in \u001B[0;36mget_best_pair\u001B[0;34m(pair_points)\u001B[0m\n\u001B[1;32m      6\u001B[0m \u001B[0;34m\u001B[0m\u001B[0m\n\u001B[1;32m      7\u001B[0m     \u001B[0md1\u001B[0m \u001B[0;34m=\u001B[0m \u001B[0mdistance\u001B[0m\u001B[0;34m(\u001B[0m\u001B[0mpair_points\u001B[0m\u001B[0;34m[\u001B[0m\u001B[0;36m0\u001B[0m\u001B[0;34m]\u001B[0m\u001B[0;34m,\u001B[0m \u001B[0mpair_points\u001B[0m\u001B[0;34m[\u001B[0m\u001B[0;36m1\u001B[0m\u001B[0;34m]\u001B[0m\u001B[0;34m)\u001B[0m\u001B[0;34m\u001B[0m\u001B[0;34m\u001B[0m\u001B[0m\n\u001B[0;32m----> 8\u001B[0;31m     \u001B[0md2\u001B[0m \u001B[0;34m=\u001B[0m \u001B[0mdistance\u001B[0m\u001B[0;34m(\u001B[0m\u001B[0mpair_points\u001B[0m\u001B[0;34m[\u001B[0m\u001B[0;36m0\u001B[0m\u001B[0;34m]\u001B[0m\u001B[0;34m,\u001B[0m \u001B[0mpair_points\u001B[0m\u001B[0;34m[\u001B[0m\u001B[0;36m2\u001B[0m\u001B[0;34m]\u001B[0m\u001B[0;34m)\u001B[0m\u001B[0;34m\u001B[0m\u001B[0;34m\u001B[0m\u001B[0m\n\u001B[0m\u001B[1;32m      9\u001B[0m     \u001B[0md3\u001B[0m \u001B[0;34m=\u001B[0m \u001B[0mdistance\u001B[0m\u001B[0;34m(\u001B[0m\u001B[0mpair_points\u001B[0m\u001B[0;34m[\u001B[0m\u001B[0;36m2\u001B[0m\u001B[0;34m]\u001B[0m\u001B[0;34m,\u001B[0m \u001B[0mpair_points\u001B[0m\u001B[0;34m[\u001B[0m\u001B[0;36m1\u001B[0m\u001B[0;34m]\u001B[0m\u001B[0;34m)\u001B[0m\u001B[0;34m\u001B[0m\u001B[0;34m\u001B[0m\u001B[0m\n\u001B[1;32m     10\u001B[0m \u001B[0;34m\u001B[0m\u001B[0m\n",
      "\u001B[0;31mIndexError\u001B[0m: list index out of range"
     ]
    }
   ],
   "source": [
    "Distance = float\n",
    "Point = Tuple[int, int]\n",
    "PairPoints = Tuple[Point, Point]\n",
    "\n",
    "def get_best_pair(pair_points: List[Point]) -> PairPoints:\n",
    "\n",
    "    d1 = distance(pair_points[0], pair_points[1])\n",
    "    d2 = distance(pair_points[0], pair_points[2])\n",
    "    d3 = distance(pair_points[2], pair_points[1])\n",
    "\n",
    "    min_distance = min(d1, d2, d3)\n",
    "\n",
    "    if min_distance == d1:\n",
    "        return pair_points[0], pair_points[1]\n",
    "    elif min_distance == d2:\n",
    "        return pair_points[0], pair_points[2]\n",
    "    else:\n",
    "        return pair_points[2], pair_points[1]\n",
    "\n",
    "def sort_points(points: List[Point]) -> Tuple[List[Point], List[Point]]:\n",
    "\n",
    "    return sorted(points, key=lambda point: point[0]), \\\n",
    "           sorted(points, key=lambda point: point[1])\n",
    "\n",
    "def closest_pair_divide_n_conquer(px, py) -> PairPoints:\n",
    "\n",
    "    count = len(px)\n",
    "    is_base_case = count <= 3\n",
    "\n",
    "    if is_base_case:\n",
    "\n",
    "        (px1, px2) = get_best_pair(px)\n",
    "        (py1, py2) = get_best_pair(py)\n",
    "\n",
    "        return closest_pair_brute_force([px1, px2, py1, py2])\n",
    "\n",
    "    half = round(count / 2)\n",
    "\n",
    "    Lx = px[0: half]\n",
    "    Ly = py[half:]\n",
    "\n",
    "    Rx = px[0: half]\n",
    "    Ry = py[half:]\n",
    "\n",
    "    (l1, l2) = closest_pair_divide_n_conquer(Lx, Ly)\n",
    "    (r1, r2) = closest_pair_divide_n_conquer(Rx, Ry)\n",
    "\n",
    "    return closest_pair_brute_force([l1, l2, r1, r2])\n",
    "\n",
    "\n",
    "[dx, dy] = sort_points(data)\n",
    "closest_pair_divide_n_conquer(dx, dy)"
   ]
  },
  {
   "cell_type": "code",
   "execution_count": null,
   "outputs": [],
   "source": [
    "!git push origin master"
   ],
   "metadata": {
    "collapsed": false,
    "pycharm": {
     "name": "#%%\n"
    }
   }
  },
  {
   "cell_type": "code",
   "execution_count": null,
   "outputs": [],
   "source": [],
   "metadata": {
    "collapsed": false,
    "pycharm": {
     "name": "#%%\n"
    }
   }
  },
  {
   "cell_type": "code",
   "execution_count": 9,
   "metadata": {},
   "outputs": [
    {
     "name": "stdout",
     "output_type": "stream",
     "text": [
      "Enumerating objects: 8, done.\n",
      "Counting objects: 100% (8/8), done.\n",
      "Delta compression using up to 12 threads\n",
      "Compressing objects: 100% (7/7), done.\n",
      "Writing objects: 100% (7/7), 4.97 KiB | 4.97 MiB/s, done.\n",
      "Total 7 (delta 0), reused 0 (delta 0)\n",
      "To https://github.com/victorlenerd/python_dsa\n",
      "   e9bb5ff..c420994  master -> master\n"
     ]
    }
   ],
   "source": []
  },
  {
   "cell_type": "code",
   "execution_count": null,
   "metadata": {},
   "outputs": [],
   "source": []
  }
 ],
 "metadata": {
  "kernelspec": {
   "display_name": "Python 3",
   "language": "python",
   "name": "python3"
  },
  "language_info": {
   "codemirror_mode": {
    "name": "ipython",
    "version": 3
   },
   "file_extension": ".py",
   "mimetype": "text/x-python",
   "name": "python",
   "nbconvert_exporter": "python",
   "pygments_lexer": "ipython3",
   "version": "3.7.6"
  }
 },
 "nbformat": 4,
 "nbformat_minor": 4
}