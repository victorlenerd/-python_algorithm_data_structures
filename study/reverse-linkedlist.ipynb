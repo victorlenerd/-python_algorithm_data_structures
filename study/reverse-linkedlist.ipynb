{
 "cells": [
  {
   "cell_type": "markdown",
   "source": [
    "\n",
    "# Reversing A LinkedList"
   ],
   "metadata": {
    "collapsed": false,
    "pycharm": {
     "name": "#%% md\n"
    }
   }
  },
  {
   "cell_type": "code",
   "source": [
    "class LinkNode:\n",
    "\n",
    "    val = None\n",
    "    next = None\n",
    "\n",
    "    def __init__(self, val):\n",
    "        self.val = val\n",
    "        self.next = None\n",
    "\n",
    "\n",
    "a = LinkNode('a')\n",
    "b = LinkNode('b')\n",
    "c = LinkNode('c')\n",
    "d = LinkNode('d')\n",
    "e = LinkNode('e')\n",
    "\n",
    "a.next = b\n",
    "b.next = c\n",
    "c.next = d\n",
    "d.next = e\n",
    "\n",
    "def print_list(head: LinkNode):\n",
    "\n",
    "    current_node: LinkNode = head\n",
    "\n",
    "    while current_node is not None:\n",
    "        print(current_node.val + \" -> \")\n",
    "        current_node = current_node.next\n",
    "\n",
    "def reverse_recurrs(head: LinkNode):\n",
    "    if head is not None or head.next is not None:\n",
    "        return head\n",
    "\n",
    "    reversed_list_head = reverse_recurrs(head.next)\n",
    "\n",
    "    head.next.next = head\n",
    "\n",
    "    head.next = None\n",
    "\n",
    "    return reversed_list_head\n",
    "\n",
    "\n",
    "def reverse_loop(head: LinkNode):\n",
    "\n",
    "    current_node = head\n",
    "    prev_node: LinkNode = None\n",
    "    next_node: LinkNode = None\n",
    "\n",
    "    while current_node is not None:\n",
    "\n",
    "        next_node = current_node.next\n",
    "        current_node.next = prev_node\n",
    "        prev_node = current_node\n",
    "        current_node = next_node\n",
    "\n",
    "    return prev_node\n",
    "\n",
    "\n",
    "print_list(a)\n",
    "a1 = reverse_loop(a)\n",
    "print_list(a1)"
   ],
   "metadata": {
    "collapsed": false,
    "pycharm": {
     "name": "#%%\n"
    }
   },
   "execution_count": 5,
   "outputs": [
    {
     "name": "stdout",
     "output_type": "stream",
     "text": [
      "a -> \n",
      "b -> \n",
      "c -> \n",
      "d -> \n",
      "e -> \n",
      "e -> \n",
      "d -> \n",
      "c -> \n",
      "b -> \n",
      "a -> \n"
     ]
    }
   ]
  }
 ],
 "metadata": {
  "kernelspec": {
   "display_name": "Python 3",
   "language": "python",
   "name": "python3"
  },
  "language_info": {
   "codemirror_mode": {
    "name": "ipython",
    "version": 2
   },
   "file_extension": ".py",
   "mimetype": "text/x-python",
   "name": "python",
   "nbconvert_exporter": "python",
   "pygments_lexer": "ipython2",
   "version": "2.7.6"
  }
 },
 "nbformat": 4,
 "nbformat_minor": 0
}