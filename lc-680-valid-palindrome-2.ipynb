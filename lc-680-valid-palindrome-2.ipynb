{
 "cells": [
  {
   "cell_type": "markdown",
   "metadata": {
    "pycharm": {
     "name": "#%% md\n"
    }
   },
   "source": [
    "Given a non-empty string s, you may delete **at most** one character. Judge whether you can make it a palindrome.\n",
    "\n",
    "Example 1:\n",
    "```\n",
    "Input: \"aba\"\n",
    "Output: True\n",
    "```\n",
    "Example 2:\n",
    "```\n",
    "Input: \"abca\"\n",
    "Output: True\n",
    "Explanation: You could delete the character 'c'.\n",
    "```\n",
    "Note:\n",
    "1. The string will only contain lowercase characters a-z. The maximum length of the string is 50000."
   ]
  },
  {
   "cell_type": "code",
   "execution_count": 1,
   "metadata": {
    "collapsed": false,
    "jupyter": {
     "outputs_hidden": false
    },
    "pycharm": {
     "name": "#%%\n"
    }
   },
   "outputs": [
    {
     "name": "stdout",
     "output_type": "stream",
     "text": [
      "True\n"
     ]
    }
   ],
   "source": [
    "from typing import Dict\n",
    "\n",
    "class Solution:\n",
    "\n",
    "    def validPalindrome(self, s: str):\n",
    "\n",
    "        size = len(s) - 1\n",
    "        pivot = round(size / 2)\n",
    "\n",
    "        def isPalindrome(i, j):\n",
    "            return all(s[k] == s[j-k+i] for k in range(i, j))\n",
    "\n",
    "        for i in range(pivot):\n",
    "            if s[i] != s[~i]:\n",
    "                j = size - i\n",
    "                return isPalindrome(i+1, j) or isPalindrome(i, j-1)\n",
    "\n",
    "        return True\n",
    "\n",
    "s = Solution()\n",
    "\n",
    "test_one = \"cbbcc\"\n",
    "\n",
    "print(s.validPalindrome(test_one))"
   ]
  },
  {
   "cell_type": "code",
   "execution_count": 2,
   "metadata": {},
   "outputs": [
    {
     "name": "stdout",
     "output_type": "stream",
     "text": [
      "/bin/sh: gst: command not found\n"
     ]
    }
   ],
   "source": [
    "!gst"
   ]
  },
  {
   "cell_type": "code",
   "execution_count": 3,
   "metadata": {},
   "outputs": [
    {
     "name": "stdout",
     "output_type": "stream",
     "text": [
      "On branch master\n",
      "Your branch is up to date with 'origin/master'.\n",
      "\n",
      "Changes to be committed:\n",
      "  (use \"git reset HEAD <file>...\" to unstage)\n",
      "\n",
      "\t\u001b[32mnew file:   lc-680-valid-palindrome-2.ipynb\u001b[m\n",
      "\n",
      "Changes not staged for commit:\n",
      "  (use \"git add <file>...\" to update what will be committed)\n",
      "  (use \"git checkout -- <file>...\" to discard changes in working directory)\n",
      "\n",
      "\t\u001b[31mmodified:   lc-680-valid-palindrome-2.ipynb\u001b[m\n",
      "\n",
      "Untracked files:\n",
      "  (use \"git add <file>...\" to include in what will be committed)\n",
      "\n",
      "\t\u001b[31m.ipynb_checkpoints/lc-680-valid-palindrome-2-checkpoint.ipynb\u001b[m\n",
      "\n"
     ]
    }
   ],
   "source": [
    "!git status"
   ]
  },
  {
   "cell_type": "code",
   "execution_count": null,
   "metadata": {},
   "outputs": [],
   "source": []
  }
 ],
 "metadata": {
  "kernelspec": {
   "display_name": "Python 3",
   "language": "python",
   "name": "python3"
  },
  "language_info": {
   "codemirror_mode": {
    "name": "ipython",
    "version": 3
   },
   "file_extension": ".py",
   "mimetype": "text/x-python",
   "name": "python",
   "nbconvert_exporter": "python",
   "pygments_lexer": "ipython3",
   "version": "3.7.6"
  }
 },
 "nbformat": 4,
 "nbformat_minor": 4
}
