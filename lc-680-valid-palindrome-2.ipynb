{
 "cells": [
  {
   "cell_type": "markdown",
   "metadata": {
    "pycharm": {
     "name": "#%% md\n"
    }
   },
   "source": [
    "Given a non-empty string s, you may delete **at most** one character. Judge whether you can make it a palindrome.\n",
    "\n",
    "Example 1:\n",
    "```\n",
    "Input: \"aba\"\n",
    "Output: True\n",
    "```\n",
    "Example 2:\n",
    "```\n",
    "Input: \"abca\"\n",
    "Output: True\n",
    "Explanation: You could delete the character 'c'.\n",
    "```\n",
    "Note:\n",
    "1. The string will only contain lowercase characters a-z. The maximum length of the string is 50000."
   ]
  },
  {
   "cell_type": "code",
   "execution_count": 1,
   "metadata": {
    "collapsed": false,
    "jupyter": {
     "outputs_hidden": false
    },
    "pycharm": {
     "name": "#%%\n"
    }
   },
   "outputs": [
    {
     "name": "stdout",
     "output_type": "stream",
     "text": [
      "True\n"
     ]
    }
   ],
   "source": [
    "from typing import Dict\n",
    "\n",
    "class Solution:\n",
    "\n",
    "    def validPalindrome(self, s: str):\n",
    "\n",
    "        size = len(s) - 1\n",
    "        pivot = round(size / 2)\n",
    "\n",
    "        def isPalindrome(i, j):\n",
    "            return all(s[k] == s[j-k+i] for k in range(i, j))\n",
    "\n",
    "        for i in range(pivot):\n",
    "            if s[i] != s[~i]:\n",
    "                j = size - i\n",
    "                return isPalindrome(i+1, j) or isPalindrome(i, j-1)\n",
    "\n",
    "        return True\n",
    "\n",
    "s = Solution()\n",
    "\n",
    "test_one = \"cbbcc\"\n",
    "\n",
    "print(s.validPalindrome(test_one))"
   ]
  },
  {
   "cell_type": "code",
   "execution_count": 7,
   "metadata": {},
   "outputs": [
    {
     "name": "stdout",
     "output_type": "stream",
     "text": [
      "Enumerating objects: 7, done.\n",
      "Counting objects: 100% (7/7), done.\n",
      "Delta compression using up to 12 threads\n",
      "Compressing objects: 100% (5/5), done.\n",
      "Writing objects: 100% (5/5), 1.71 KiB | 1.71 MiB/s, done.\n",
      "Total 5 (delta 3), reused 0 (delta 0)\n",
      "remote: Resolving deltas: 100% (3/3), completed with 2 local objects.\u001b[K\n",
      "To https://github.com/victorlenerd/python_dsa\n",
      "   03d2513..592f204  master -> master\n"
     ]
    }
   ],
   "source": [
    "!git push origin master"
   ]
  },
  {
   "cell_type": "code",
   "execution_count": null,
   "metadata": {},
   "outputs": [],
   "source": []
  }
 ],
 "metadata": {
  "kernelspec": {
   "display_name": "Python 3",
   "language": "python",
   "name": "python3"
  },
  "language_info": {
   "codemirror_mode": {
    "name": "ipython",
    "version": 3
   },
   "file_extension": ".py",
   "mimetype": "text/x-python",
   "name": "python",
   "nbconvert_exporter": "python",
   "pygments_lexer": "ipython3",
   "version": "3.7.6"
  }
 },
 "nbformat": 4,
 "nbformat_minor": 4
}
