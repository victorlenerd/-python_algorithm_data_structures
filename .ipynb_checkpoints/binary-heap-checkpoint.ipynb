{
 "cells": [
  {
   "cell_type": "markdown",
   "metadata": {},
   "source": [
    "## Basic Binary Heap\n",
    "Index arthmetic cafe"
   ]
  },
  {
   "cell_type": "code",
   "execution_count": 46,
   "metadata": {},
   "outputs": [
    {
     "name": "stdout",
     "output_type": "stream",
     "text": [
      "[61, 29, 6, 19, 2, 1, 3, 4]\n",
      "PQ Before pop [4, 29, 6, 19, 2, 1, 3, 61]\n",
      "PQ After pop [4, 29, 6, 19, 2, 1, 3]\n",
      "[4, 29, 6, 19, 2, 1, 3]\n"
     ]
    }
   ],
   "source": [
    "from typing import List\n",
    "\n",
    "class MaxBinaryHeap:\n",
    "    \n",
    "    size: int = 0\n",
    "    pq: List[int] = []\n",
    "    \n",
    "    def swim(self, k: int):\n",
    "        pos: int = k\n",
    "\n",
    "        while pos > 1:\n",
    "            j = round(pos / 2)\n",
    "            if self.less(j, pos):\n",
    "                self.exch(pos, j)\n",
    "                pos = j\n",
    "            else:\n",
    "                break\n",
    "    \n",
    "    def sink(self, k: int):\n",
    "        pos = k\n",
    "        while pos < self.size:\n",
    "            j = pos * 2\n",
    "            if j < self.size and self.less(j, j+1):\n",
    "                j += 1\n",
    "            if not self.less(pos, j):\n",
    "                break\n",
    "            self.exch(pos, j)\n",
    "            pos = j\n",
    "    \n",
    "    def less(self, parentK: int, k: int):\n",
    "        return self.pq[parentK - 1] < self.pq[k - 1]\n",
    "     \n",
    "    def exch(self, parentK: int, k: int):\n",
    "        tmp = self.pq[parentK - 1]\n",
    "        self.pq[parentK - 1] = self.pq[k - 1]\n",
    "        self.pq[k - 1] = tmp\n",
    "    \n",
    "    def insert(self, x: int):\n",
    "        self.pq.append(x)\n",
    "        self.size += 1\n",
    "        self.swim(self.size)\n",
    "    \n",
    "    def delMax(self):\n",
    "        max = self.pq[0]\n",
    "        self.exch(1, self.size)\n",
    "        print('PQ Before pop', self.pq)\n",
    "        self.pq.pop()\n",
    "        print('PQ After pop', self.pq)\n",
    "        self.size -= 1\n",
    "        self.sink(1)\n",
    "        return max\n",
    "    \n",
    "heap = MaxBinaryHeap()\n",
    "heap.insert(1)\n",
    "heap.insert(3)\n",
    "heap.insert(19)\n",
    "heap.insert(29)\n",
    "heap.insert(2)\n",
    "heap.insert(6)\n",
    "heap.insert(4)\n",
    "heap.insert(61)\n",
    "\n",
    "print(heap.pq)\n",
    "\n",
    "heap.delMax()\n",
    "\n",
    "print(heap.pq)"
   ]
  },
  {
   "cell_type": "code",
   "execution_count": 32,
   "metadata": {},
   "outputs": [],
   "source": [
    "\n",
    "class MinBinaryHeap:\n",
    "    \n",
    "    size: int\n",
    "    pq: List[int]\n",
    "    \n",
    "    def swim(k: int):\n",
    "        pass\n",
    "    \n",
    "    def sink(k: int):\n",
    "        pass\n",
    "    \n",
    "    def greater(parentKey: int, k: int):\n",
    "        pass\n",
    "    \n",
    "    def exch(parentKey: int, k: int):\n",
    "        pass\n",
    "    \n",
    "    def insert(x: int):\n",
    "        pass\n",
    "    \n",
    "    def delMin():\n",
    "        pass"
   ]
  },
  {
   "cell_type": "code",
   "execution_count": null,
   "metadata": {},
   "outputs": [],
   "source": []
  }
 ],
 "metadata": {
  "kernelspec": {
   "display_name": "Python 3",
   "language": "python",
   "name": "python3"
  },
  "language_info": {
   "codemirror_mode": {
    "name": "ipython",
    "version": 3
   },
   "file_extension": ".py",
   "mimetype": "text/x-python",
   "name": "python",
   "nbconvert_exporter": "python",
   "pygments_lexer": "ipython3",
   "version": "3.7.6"
  }
 },
 "nbformat": 4,
 "nbformat_minor": 4
}
