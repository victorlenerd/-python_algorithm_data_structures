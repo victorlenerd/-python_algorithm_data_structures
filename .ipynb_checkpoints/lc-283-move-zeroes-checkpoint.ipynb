{
 "cells": [
  {
   "cell_type": "markdown",
   "metadata": {
    "collapsed": true,
    "pycharm": {
     "name": "#%% md\n"
    }
   },
   "source": [
    "Given an array `nums`, write a function to move all 0's to the end of it\n",
    "while maintaining the relative order of the non-zero elements.\n",
    "\n",
    "**Example:**\n",
    "```\n",
    "Input: [0,1,0,3,12]\n",
    "Output: [1,3,12,0,0]\n",
    "```\n",
    "**Note:**\n",
    "\n",
    "1. You must do this **in-place** without making a copy of the array.\n",
    "2. Minimize the total number of operations."
   ]
  },
  {
   "cell_type": "code",
   "execution_count": 1,
   "outputs": [
    {
     "name": "stdout",
     "output_type": "stream",
     "text": [
      "[1, 1, 0]\n"
     ]
    }
   ],
   "source": [
    "from typing import List\n",
    "\n",
    "class Solution:\n",
    "\n",
    "    def moveZeroes(self, nums: List[int]) -> None:\n",
    "        \"\"\"\n",
    "        Do not return anything, modify nums in-place instead.\n",
    "        \"\"\"\n",
    "        i = 0\n",
    "        j = 1\n",
    "\n",
    "        size = len(nums) - 1\n",
    "\n",
    "        while j <= size:\n",
    "            if nums[i] == 0:\n",
    "                end = size\n",
    "                k = i\n",
    "                while k < end:\n",
    "                    tmp = nums[k + 1]\n",
    "                    nums[k + 1] = nums[k]\n",
    "                    nums[k] = tmp\n",
    "                    k += 1\n",
    "            else:\n",
    "                i += 1\n",
    "            j += 1\n",
    "\n",
    "\n",
    "solution = Solution()\n",
    "nums = [1,0,1]\n",
    "solution.moveZeroes(nums)\n",
    "print(nums)"
   ],
   "metadata": {
    "collapsed": false,
    "pycharm": {
     "name": "#%%\n"
    }
   }
  }
 ],
 "metadata": {
  "kernelspec": {
   "display_name": "Python 3",
   "language": "python",
   "name": "python3"
  },
  "language_info": {
   "codemirror_mode": {
    "name": "ipython",
    "version": 2
   },
   "file_extension": ".py",
   "mimetype": "text/x-python",
   "name": "python",
   "nbconvert_exporter": "python",
   "pygments_lexer": "ipython2",
   "version": "2.7.6"
  }
 },
 "nbformat": 4,
 "nbformat_minor": 0
}