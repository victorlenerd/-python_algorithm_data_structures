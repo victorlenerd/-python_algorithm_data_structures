{
 "cells": [
  {
   "cell_type": "markdown",
   "source": [
    "# Recursion"
   ],
   "metadata": {
    "collapsed": false,
    "pycharm": {
     "name": "#%% md\n"
    }
   }
  },
  {
   "cell_type": "markdown",
   "source": [
    "## Euclidean GCD\n",
    "\n",
    "Proof of Euclidean video \n",
    "https://www.youtube.com/watch?v=H_2_nqKAZ5w\n",
    "\n",
    "\n",
    "The Greatest Common Divisor of two numbers X and Y is the GCD of X and R where R is Y - X, \n",
    "basically R is always less than Y."
   ],
   "metadata": {
    "collapsed": false
   }
  },
  {
   "cell_type": "code",
   "execution_count": 1,
   "outputs": [],
   "source": [
    "def gcd(x, y):\n",
    "    mx = max(x, y)\n",
    "    mn = min(x, y)\n",
    "    \n",
    "    if mn == 0:\n",
    "        return mx\n",
    "\n",
    "    r = mx % mn\n",
    "    print(r)\n",
    "    \n",
    "    return gcd(r, mn)"
   ],
   "metadata": {
    "collapsed": false,
    "pycharm": {
     "name": "#%%\n",
     "is_executing": false
    }
   }
  },
  {
   "cell_type": "code",
   "execution_count": 2,
   "outputs": [
    {
     "name": "stdout",
     "text": [
      "21\n13\n8\n5\n3\n2\n1\n0\n"
     ],
     "output_type": "stream"
    },
    {
     "data": {
      "text/plain": "1"
     },
     "metadata": {},
     "output_type": "execute_result",
     "execution_count": 2
    }
   ],
   "source": [
    "    \n",
    "gcd(34, 55)"
   ],
   "metadata": {
    "collapsed": false,
    "pycharm": {
     "name": "#%%\n",
     "is_executing": false
    }
   }
  },
  {
   "cell_type": "code",
   "execution_count": 3,
   "outputs": [
    {
     "name": "stdout",
     "text": [
      "12\n0\n"
     ],
     "output_type": "stream"
    },
    {
     "data": {
      "text/plain": "12"
     },
     "metadata": {},
     "output_type": "execute_result",
     "execution_count": 3
    }
   ],
   "source": [
    "gcd(156, 36)"
   ],
   "metadata": {
    "collapsed": false,
    "pycharm": {
     "name": "#%%\n",
     "is_executing": false
    }
   }
  },
  {
   "cell_type": "markdown",
   "source": [
    "## Merge Sort\n",
    "\n"
   ],
   "metadata": {
    "collapsed": false,
    "pycharm": {
     "name": "#%% md\n"
    }
   }
  }
 ],
 "metadata": {
  "kernelspec": {
   "name": "python3",
   "language": "python",
   "display_name": "Python 3"
  },
  "language_info": {
   "codemirror_mode": {
    "name": "ipython",
    "version": 2
   },
   "file_extension": ".py",
   "mimetype": "text/x-python",
   "name": "python",
   "nbconvert_exporter": "python",
   "pygments_lexer": "ipython2",
   "version": "2.7.6"
  },
  "pycharm": {
   "stem_cell": {
    "cell_type": "raw",
    "source": [],
    "metadata": {
     "collapsed": false
    }
   }
  }
 },
 "nbformat": 4,
 "nbformat_minor": 0
}