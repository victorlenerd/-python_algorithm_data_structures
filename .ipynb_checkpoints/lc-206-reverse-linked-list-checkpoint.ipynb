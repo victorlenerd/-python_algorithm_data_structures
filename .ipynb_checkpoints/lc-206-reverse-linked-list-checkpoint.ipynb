{
 "cells": [
  {
   "cell_type": "markdown",
   "metadata": {},
   "source": [
    "Reverse a singly linked list.\n",
    "\n",
    "**Example:**\n",
    "\n",
    "```\n",
    "Input: 1->2->3->4->5->NULL\n",
    "Output: 5->4->3->2->1->NULL\n",
    "```\n",
    "\n",
    "**Follow up:**\n",
    "\n",
    "A linked list can be reversed either iteratively or recursively. Could you implement both?"
   ]
  },
  {
   "cell_type": "code",
   "execution_count": 30,
   "metadata": {},
   "outputs": [
    {
     "name": "stdout",
     "output_type": "stream",
     "text": [
      "Test Node\n",
      "1 ->\n",
      "2 ->\n",
      "3 ->\n",
      "4 ->\n",
      "5 ->\n",
      "---------------------------\n",
      "Reversed Node\n"
     ]
    }
   ],
   "source": [
    "# Definition for singly-linked list.\n",
    "from typing import List\n",
    "\n",
    "def printNode(node: ListNode):\n",
    "    if node is not None:\n",
    "        print(node.val, '->')\n",
    "        printNode(node.next)\n",
    "\n",
    "class ListNode:\n",
    "    \n",
    "    def __init__(self, val=0, next=None):\n",
    "        self.val = val\n",
    "        self.next = next    \n",
    "        \n",
    "        \n",
    "class Solution:\n",
    "    \n",
    "    def swapNodeInPlace(self, head: ListNode) -> ListNode:\n",
    "\n",
    "        nextHeadNode: ListNode = head.next\n",
    "            \n",
    "        currentHeadNode: ListNode = head\n",
    "        currentHeadNode.next = head.next.next\n",
    "        \n",
    "        nextHeadNode.next = currentHeadNode\n",
    "        \n",
    "        return nextHeadNode.next\n",
    "    \n",
    "    def reverse(self, head: ListNode) -> ListNode:\n",
    "    \n",
    "        if head.next is None:\n",
    "            return\n",
    "        \n",
    "        nextHead = self.swapNodeInPlace(head)\n",
    "        \n",
    "        return self.reverse(nextHead)\n",
    "        \n",
    "    \n",
    "    def reverseList(self, head: ListNode) -> ListNode:\n",
    "        \n",
    "        if head is None:\n",
    "            return head\n",
    "        \n",
    "        return self.reverse(head)\n",
    "\n",
    "\n",
    "print('Test Node')\n",
    "testNode = ListNode(1, ListNode(2, ListNode(3, ListNode(4, ListNode(5)))))\n",
    "printNode(testNode)\n",
    "\n",
    "print('---------------------------')\n",
    "\n",
    "print('Reversed Node')\n",
    "s = Solution()\n",
    "reversedNode = s.reverseList(testNode)\n",
    "printNode(reversedNode)"
   ]
  },
  {
   "cell_type": "code",
   "execution_count": null,
   "metadata": {},
   "outputs": [],
   "source": []
  }
 ],
 "metadata": {
  "kernelspec": {
   "display_name": "Python 3",
   "language": "python",
   "name": "python3"
  },
  "language_info": {
   "codemirror_mode": {
    "name": "ipython",
    "version": 3
   },
   "file_extension": ".py",
   "mimetype": "text/x-python",
   "name": "python",
   "nbconvert_exporter": "python",
   "pygments_lexer": "ipython3",
   "version": "3.7.6"
  }
 },
 "nbformat": 4,
 "nbformat_minor": 4
}
