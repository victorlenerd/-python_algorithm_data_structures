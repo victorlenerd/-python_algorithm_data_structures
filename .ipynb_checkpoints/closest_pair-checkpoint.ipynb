{
 "cells": [
  {
   "cell_type": "markdown",
   "metadata": {},
   "source": [
    "# Closest Pair"
   ]
  },
  {
   "cell_type": "markdown",
   "metadata": {},
   "source": [
    "The closest pair problem concerns points\n",
    "$\\ (x, y)\\in {\\Bbb R}^2$\n",
    "in the plane. To measure the distance between two points\n",
    "$\\ p1 = (x1, y1)$ and $\\ p2 = (x2, y2) $\n",
    "we use the usual Eculidean (straight-line) distance:\n",
    "$\\ d(p1, p2) = \\sqrt{(x1-x2)^2 + (y1-y2)^2}$\n"
   ]
  },
  {
   "cell_type": "markdown",
   "metadata": {},
   "source": [
    "**Input:** $\\ n \\geq 2$ points $p1 = (x1, y1),...,pn = (xn, yn)$ in the plane."
   ]
  },
  {
   "cell_type": "markdown",
   "metadata": {},
   "source": [
    "**Output:** The pair $\\ pi, pj$ of points with smallest Eculidean distance $\\ d(pi, pj)$."
   ]
  },
  {
   "cell_type": "markdown",
   "metadata": {},
   "source": [
    "## Approach One: Brute Force"
   ]
  },
  {
   "cell_type": "code",
   "execution_count": 12,
   "metadata": {},
   "outputs": [
    {
     "ename": "ImportError",
     "evalue": "cannot import name 'Enum' from 'typing' (/opt/anaconda3/lib/python3.7/typing.py)",
     "output_type": "error",
     "traceback": [
      "\u001b[0;31m---------------------------------------------------------------------------\u001b[0m",
      "\u001b[0;31mImportError\u001b[0m                               Traceback (most recent call last)",
      "\u001b[0;32m<ipython-input-12-7aad5d4a9e1a>\u001b[0m in \u001b[0;36m<module>\u001b[0;34m\u001b[0m\n\u001b[1;32m      2\u001b[0m \u001b[0;32mimport\u001b[0m \u001b[0mmath\u001b[0m\u001b[0;34m\u001b[0m\u001b[0;34m\u001b[0m\u001b[0m\n\u001b[1;32m      3\u001b[0m \u001b[0;32mimport\u001b[0m \u001b[0msys\u001b[0m\u001b[0;34m\u001b[0m\u001b[0;34m\u001b[0m\u001b[0m\n\u001b[0;32m----> 4\u001b[0;31m \u001b[0;32mfrom\u001b[0m \u001b[0mtyping\u001b[0m \u001b[0;32mimport\u001b[0m \u001b[0mList\u001b[0m\u001b[0;34m,\u001b[0m \u001b[0mTuple\u001b[0m\u001b[0;34m,\u001b[0m \u001b[0mDict\u001b[0m\u001b[0;34m,\u001b[0m \u001b[0mEnum\u001b[0m\u001b[0;34m\u001b[0m\u001b[0;34m\u001b[0m\u001b[0m\n\u001b[0m\u001b[1;32m      5\u001b[0m \u001b[0;34m\u001b[0m\u001b[0m\n\u001b[1;32m      6\u001b[0m \u001b[0mrandom\u001b[0m\u001b[0;34m.\u001b[0m\u001b[0mseed\u001b[0m\u001b[0;34m(\u001b[0m\u001b[0;36m5\u001b[0m\u001b[0;34m)\u001b[0m\u001b[0;34m\u001b[0m\u001b[0;34m\u001b[0m\u001b[0m\n",
      "\u001b[0;31mImportError\u001b[0m: cannot import name 'Enum' from 'typing' (/opt/anaconda3/lib/python3.7/typing.py)"
     ]
    }
   ],
   "source": [
    "import random\n",
    "import math\n",
    "import sys\n",
    "from typing import List, Tuple, Dict\n",
    "\n",
    "random.seed(5)\n",
    "\n",
    "def generate_input(n: int) -> List[Tuple[int, int]]:\n",
    "    \n",
    "    inputs: List[Tuple[int, int]] = []\n",
    "        \n",
    "    for i in range(n):\n",
    "        inputs.append((random.randint(0, n), random.randint(0, n)))\n",
    "\n",
    "    return inputs"
   ]
  },
  {
   "cell_type": "code",
   "execution_count": 2,
   "metadata": {},
   "outputs": [],
   "source": [
    "data = generate_input(50)"
   ]
  },
  {
   "cell_type": "code",
   "execution_count": 3,
   "metadata": {},
   "outputs": [],
   "source": [
    "def distance(p1: Tuple[int, int], p2: Tuple[int, int]) -> float:\n",
    "    (x1, y1) = p1\n",
    "    (x2, y2) = p2\n",
    "    \n",
    "    return math.sqrt(math.pow(x1 - x2, 2) + math.pow(y1 - y2, 2))"
   ]
  },
  {
   "cell_type": "code",
   "execution_count": 4,
   "metadata": {},
   "outputs": [
    {
     "data": {
      "text/plain": [
       "10.0"
      ]
     },
     "execution_count": 4,
     "metadata": {},
     "output_type": "execute_result"
    }
   ],
   "source": [
    "distance(data[0], data[1])"
   ]
  },
  {
   "cell_type": "code",
   "execution_count": 5,
   "metadata": {},
   "outputs": [],
   "source": [
    "def closest_pair_brute_force(data: List[Tuple[int, int]]) -> Tuple[Tuple[int, int], Tuple[int, int]]:\n",
    "    \n",
    "    points: Tuple[Tuple[int, int], Tuple[int, int]] = ()\n",
    "    distances = []\n",
    "    closest_distance: int = sys.maxsize\n",
    "        \n",
    "    for p1 in data:\n",
    "        for p2 in data: \n",
    "            (x1, y1) = p1\n",
    "            (x2, y2) = p2\n",
    "            \n",
    "            if x1 != x2 or y1 != y2:\n",
    "                d = distance(p1, p2)\n",
    "                \n",
    "                distances.append((d, p1, p2))\n",
    "                \n",
    "                if d < closest_distance:\n",
    "                    closest_distance = d\n",
    "                    points = (p1, p2)\n",
    "    \n",
    "    distances.sort(key=lambda x: x[0])\n",
    "    \n",
    "    return points"
   ]
  },
  {
   "cell_type": "code",
   "execution_count": 6,
   "metadata": {},
   "outputs": [
    {
     "data": {
      "text/plain": [
       "((15, 0), (16, 1))"
      ]
     },
     "execution_count": 6,
     "metadata": {},
     "output_type": "execute_result"
    }
   ],
   "source": [
    "closest_pair_brute_force(data)"
   ]
  },
  {
   "cell_type": "code",
   "execution_count": 7,
   "metadata": {},
   "outputs": [
    {
     "name": "stdout",
     "output_type": "stream",
     "text": [
      "Everything up-to-date\n"
     ]
    }
   ],
   "source": [
    "!git push origin master"
   ]
  },
  {
   "cell_type": "markdown",
   "metadata": {},
   "source": [
    "## Approach Two: Divide-and-Conquer"
   ]
  },
  {
   "cell_type": "code",
   "execution_count": 15,
   "metadata": {},
   "outputs": [],
   "source": [
    "from enum import Enum\n",
    "\n",
    "Point = Tuple[int, int]\n",
    "PairPoints = Tuple[Point, Point]\n",
    "\n",
    "class Axis(Enum):\n",
    "    X = 'X'\n",
    "    Y = 'Y'\n",
    "    \n",
    "def get_best_point(p1: PairPoints, p2: PairPoints, p3: PairPoints):\n",
    "    pass\n",
    "\n",
    "def sort_points(points: List[Point], axis: Axis):\n",
    "    pass"
   ]
  },
  {
   "cell_type": "code",
   "execution_count": null,
   "metadata": {},
   "outputs": [],
   "source": []
  }
 ],
 "metadata": {
  "kernelspec": {
   "display_name": "Python 3",
   "language": "python",
   "name": "python3"
  },
  "language_info": {
   "codemirror_mode": {
    "name": "ipython",
    "version": 3
   },
   "file_extension": ".py",
   "mimetype": "text/x-python",
   "name": "python",
   "nbconvert_exporter": "python",
   "pygments_lexer": "ipython3",
   "version": "3.7.6"
  }
 },
 "nbformat": 4,
 "nbformat_minor": 4
}
