{
 "cells": [
  {
   "cell_type": "markdown",
   "metadata": {
    "pycharm": {
     "name": "#%% md\n"
    }
   },
   "source": [
    "Given an array of distinct integers arr, find all pairs of elements with the minimum absolute difference of any two elements.\n",
    "Return a list of pairs in ascending order(with respect to pairs), each pair [a, b] follows\n",
    "\n",
    "* `a, b` are from `arr`\n",
    "* `a < b`\n",
    "* `b - a` equals to the minimum absolute difference of any two elements in `arr`\n",
    "\n",
    "Example 1:\n",
    "\n",
    "```\n",
    "Input: arr = [4,2,1,3]\n",
    "Output: [[1,2],[2,3],[3,4]]\n",
    "```\n",
    "Explanation: The minimum absolute difference is 1. List all pairs with difference equal to 1 in ascending order.\n",
    "\n",
    "Example 2:\n",
    "\n",
    "```\n",
    "Input: arr = [1,3,6,10,15]\n",
    "Output: [[1,3]]\n",
    "```\n",
    "\n",
    "Example 3:\n",
    "\n",
    "```\n",
    "Input: arr = [3,8,-10,23,19,-4,-14,27]\n",
    "Output: [[-14,-10],[19,23],[23,27]]\n",
    "```\n",
    "\n",
    "Constraints:\n",
    "\n",
    "* `2 <= arr.length <= 10^5`\n",
    "* `-10^6 <= arr[i] <= 10^6`"
   ]
  },
  {
   "cell_type": "code",
   "execution_count": 2,
   "metadata": {
    "collapsed": false,
    "jupyter": {
     "outputs_hidden": false
    },
    "pycharm": {
     "is_executing": true,
     "name": "#%%\n"
    }
   },
   "outputs": [
    {
     "name": "stdout",
     "output_type": "stream",
     "text": [
      "[40, 11, 26, 27, -20]\n",
      "min_diff -29\n",
      "[[40, 11]]\n"
     ]
    }
   ],
   "source": [
    "from typing import List, Dict\n",
    "\n",
    "class Solution:\n",
    "\n",
    "    def find_min_diff(self, arr: List[int]) -> int:\n",
    "        global_min = arr[1] - arr[0]\n",
    "\n",
    "        i = 1\n",
    "        size = len(arr) - 1\n",
    "\n",
    "        while i < size:\n",
    "            pass\n",
    "\n",
    "        return global_min\n",
    "\n",
    "    def minimumAbsDifference(self,  arr: List[int]) -> List[List[int]]:\n",
    "\n",
    "        print(arr)\n",
    "\n",
    "        if len(arr) <= 2:\n",
    "            return [arr]\n",
    "\n",
    "        result: List[List[int]] = []\n",
    "        sorted_arr = sorted(arr)\n",
    "\n",
    "#         min_diff = self.find_min_diff(sorted_arr)\n",
    "        min_diff = arr[1] - arr[0]\n",
    "    \n",
    "            print('min_diff', arr[1] - arr[0])\n",
    "        print('min_diff', arr[1] - arr[0])\n",
    "\n",
    "        diffs: Dict[int, int] = {}\n",
    "\n",
    "        for i in arr:\n",
    "            diffs[i - min_diff] = i\n",
    "\n",
    "        for i in sorted_arr:\n",
    "            diff = i - min_diff\n",
    "            j = diffs.get(diff)\n",
    "            if j is not None and diff in arr:\n",
    "                result.append([diff, i])\n",
    "\n",
    "        return result\n",
    "\n",
    "solution = Solution()\n",
    "\n",
    "test_case_one = [3,8,-10,23,19,-4,-14,27]\n",
    "test_case_two = [1,3,6,10,15]\n",
    "test_case_three = [4,2,1,3]\n",
    "test_case_four = [40,11,26,27,-20]\n",
    "\n",
    "# print(solution.minimumAbsDifference(test_case_one))\n",
    "# print(solution.minimumAbsDifference(test_case_two))\n",
    "# print(solution.minimumAbsDifference(test_case_three))\n",
    "print(solution.minimumAbsDifference(test_case_four))"
   ]
  },
  {
   "cell_type": "code",
   "execution_count": null,
   "metadata": {
    "collapsed": false,
    "jupyter": {
     "outputs_hidden": false
    },
    "pycharm": {
     "is_executing": true,
     "name": "#%%\n"
    }
   },
   "outputs": [],
   "source": []
  }
 ],
 "metadata": {
  "kernelspec": {
   "display_name": "Python 3",
   "language": "python",
   "name": "python3"
  },
  "language_info": {
   "codemirror_mode": {
    "name": "ipython",
    "version": 3
   },
   "file_extension": ".py",
   "mimetype": "text/x-python",
   "name": "python",
   "nbconvert_exporter": "python",
   "pygments_lexer": "ipython3",
   "version": "3.7.6"
  }
 },
 "nbformat": 4,
 "nbformat_minor": 4
}
