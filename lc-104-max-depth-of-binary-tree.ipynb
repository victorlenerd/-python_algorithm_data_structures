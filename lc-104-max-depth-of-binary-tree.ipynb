{
 "cells": [
  {
   "cell_type": "markdown",
   "metadata": {
    "collapsed": true,
    "pycharm": {
     "name": "#%% md\n"
    }
   },
   "source": [
    "Given a binary tree, find its maximum depth.\n",
    "\n",
    "The maximum depth is the number of nodes along the longest path from the root node down to the farthest leaf node.\n",
    "\n",
    "**Note:** A leaf is a node with no children.\n",
    "\n",
    "**Example:**\n",
    "Given binary tree `[3,9,20,null,null,15,7]`,\n",
    "\n",
    "```\n",
    "    3\n",
    "   / \\\n",
    "  9  20\n",
    "    /  \\\n",
    "   15   7\n",
    "```\n",
    "return its depth = 3."
   ]
  },
  {
   "cell_type": "code",
   "execution_count": 11,
   "outputs": [
    {
     "name": "stdout",
     "output_type": "stream",
     "text": [
      "3\n"
     ]
    }
   ],
   "source": [
    "class TreeNode:\n",
    "\n",
    "    def __init__(self, val=0, left=None, right=None):\n",
    "        self.val = val\n",
    "        self.left = left\n",
    "        self.right = right\n",
    "\n",
    "class Solution:\n",
    "\n",
    "    def nextDepth(self, root: TreeNode, depth: int):\n",
    "        left_depth = depth\n",
    "        right_depth = depth\n",
    "\n",
    "        if root.left is not None:\n",
    "            left_depth = self.nextDepth(root.left, left_depth + 1)\n",
    "\n",
    "        if root.right is not None:\n",
    "            right_depth = self.nextDepth(root.right, right_depth + 1)\n",
    "\n",
    "        return max(left_depth, right_depth)\n",
    "\n",
    "    def maxDepth(self, root: TreeNode) -> int:\n",
    "        if root is None:\n",
    "            return 0\n",
    "        max_depth = self.nextDepth(root, 1)\n",
    "        return max_depth\n",
    "\n",
    "test_data = TreeNode(3, TreeNode(9), TreeNode(20, TreeNode(15), TreeNode(27)))\n",
    "\n",
    "solution = Solution()\n",
    "max_depth = solution.maxDepth(test_data)\n",
    "print(max_depth)"
   ],
   "metadata": {
    "collapsed": false,
    "pycharm": {
     "name": "#%%\n"
    }
   }
  }
 ],
 "metadata": {
  "kernelspec": {
   "display_name": "Python 3",
   "language": "python",
   "name": "python3"
  },
  "language_info": {
   "codemirror_mode": {
    "name": "ipython",
    "version": 2
   },
   "file_extension": ".py",
   "mimetype": "text/x-python",
   "name": "python",
   "nbconvert_exporter": "python",
   "pygments_lexer": "ipython2",
   "version": "2.7.6"
  }
 },
 "nbformat": 4,
 "nbformat_minor": 0
}