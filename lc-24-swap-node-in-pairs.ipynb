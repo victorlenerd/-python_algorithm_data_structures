{
 "cells": [
  {
   "cell_type": "markdown",
   "metadata": {
    "collapsed": true,
    "pycharm": {
     "name": "#%% md\n"
    }
   },
   "source": [
    "Given a linked list, swap every two adjacent nodes and return its head.\n",
    "You may *not* modify the values in the list's nodes, only nodes itself may be changed.\n",
    "\n",
    "Example:\n",
    "```\n",
    "Given 1->2->3->4, you should return the list as 2->1->4->3.\n",
    "```"
   ]
  },
  {
   "cell_type": "code",
   "execution_count": 12,
   "outputs": [],
   "source": [
    "# Definition for singly-linked list.\n",
    "\n",
    "class ListNode:\n",
    "    def __init__(self, val=0, next=None):\n",
    "        self.val = val\n",
    "        self.next = next\n",
    "\n",
    "class Solution:\n",
    "\n",
    "    def swap(self, head: ListNode) -> ListNode:\n",
    "        if head.next is None:\n",
    "            return head\n",
    "\n",
    "        tmp_head: ListNode = head.next\n",
    "        tmp_head_next: ListNode = head.next.next\n",
    "        head.next = tmp_head_next\n",
    "        tmp_head.next = head\n",
    "\n",
    "        if tmp_head.next.next is not None :\n",
    "            tmp_head.next.next = self.swap(tmp_head.next.next)\n",
    "\n",
    "        return tmp_head\n",
    "\n",
    "    def swapPairs(self, head: ListNode) -> ListNode:\n",
    "        return self.swap(head)\n",
    "\n",
    "\n",
    "test_node = ListNode(1)\n",
    "test_node.next = ListNode(2)\n",
    "test_node.next.next = ListNode(3)\n",
    "test_node.next.next.next = ListNode(4)\n",
    "\n",
    "solution = Solution()\n",
    "\n",
    "new_list = solution.swapPairs(test_node)"
   ],
   "metadata": {
    "collapsed": false,
    "pycharm": {
     "name": "#%%\n"
    }
   }
  }
 ],
 "metadata": {
  "kernelspec": {
   "display_name": "Python 3",
   "language": "python",
   "name": "python3"
  },
  "language_info": {
   "codemirror_mode": {
    "name": "ipython",
    "version": 2
   },
   "file_extension": ".py",
   "mimetype": "text/x-python",
   "name": "python",
   "nbconvert_exporter": "python",
   "pygments_lexer": "ipython2",
   "version": "2.7.6"
  }
 },
 "nbformat": 4,
 "nbformat_minor": 0
}