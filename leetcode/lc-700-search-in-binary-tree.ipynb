{
 "cells": [
  {
   "cell_type": "markdown",
   "metadata": {
    "collapsed": true,
    "pycharm": {
     "name": "#%% md\n"
    }
   },
   "source": [
    "Given the root node of a binary search tree (BST) and a value. You need to find the node in the BST that the\n",
    "node's value equals the given value. Return the subtree rooted with that node.\n",
    "If such node doesn't exist, you should return NULL.\n",
    "\n",
    "For example,\n",
    "\n",
    "```\n",
    "Given the tree:\n",
    "        4\n",
    "       / \\\n",
    "      2   7\n",
    "     / \\\n",
    "    1   3\n",
    "And the value to search: 2\n",
    "```\n",
    "\n",
    "You should return this subtree:\n",
    " ```\n",
    "      2\n",
    "     / \\\n",
    "    1   3\n",
    "```\n",
    "In the example above, if we want to search the value `5`,\n",
    "since there is no node with value `5`, we should return NULL.\n",
    "Note that an empty tree is represented by `NULL`, therefore you would\n",
    "see the expected output (serialized tree format) as `[]`, not `null`."
   ]
  },
  {
   "cell_type": "code",
   "execution_count": 9,
   "outputs": [
    {
     "data": {
      "text/plain": "<__main__.TreeNode at 0x106acca10>"
     },
     "execution_count": 9,
     "metadata": {},
     "output_type": "execute_result"
    }
   ],
   "source": [
    "class TreeNode:\n",
    "\n",
    "    def __init__(self, val=0, left=None, right=None):\n",
    "        self.val = val\n",
    "        self.left = left\n",
    "        self.right = right\n",
    "\n",
    "class Solution:\n",
    "\n",
    "    def search(self, node: TreeNode, val: int) -> TreeNode:\n",
    "        if node is None:\n",
    "            return node\n",
    "\n",
    "        if node.val == val:\n",
    "            return node\n",
    "\n",
    "        if node.left is not None:\n",
    "            if node.left.val == val:\n",
    "                return node.left\n",
    "            else:\n",
    "                leftResult = self.search(node.left, val)\n",
    "                if leftResult is not None:\n",
    "                    return leftResult\n",
    "\n",
    "        if node.right is not None:\n",
    "            if node.right.val == val:\n",
    "                return node.right\n",
    "            else:\n",
    "                rightResult = self.search(node.right, val)\n",
    "                if rightResult is not None:\n",
    "                    return rightResult\n",
    "\n",
    "    def searchBST(self, root: TreeNode, val: int) -> TreeNode:\n",
    "        if root is None:\n",
    "            return root\n",
    "\n",
    "        return self.search(root, val)\n",
    "\n",
    "s = Solution()\n",
    "test = TreeNode(18, TreeNode(22, TreeNode(None), TreeNode(None)), TreeNode(2, TreeNode(None), TreeNode(63, TreeNode(None), TreeNode(84))))\n",
    "\n",
    "s.searchBST(test, 63)"
   ],
   "metadata": {
    "collapsed": false,
    "pycharm": {
     "name": "#%%\n"
    }
   }
  },
  {
   "cell_type": "code",
   "execution_count": 9,
   "outputs": [],
   "source": [
    "\n"
   ],
   "metadata": {
    "collapsed": false,
    "pycharm": {
     "name": "#%%\n"
    }
   }
  }
 ],
 "metadata": {
  "kernelspec": {
   "display_name": "Python 3",
   "language": "python",
   "name": "python3"
  },
  "language_info": {
   "codemirror_mode": {
    "name": "ipython",
    "version": 2
   },
   "file_extension": ".py",
   "mimetype": "text/x-python",
   "name": "python",
   "nbconvert_exporter": "python",
   "pygments_lexer": "ipython2",
   "version": "2.7.6"
  }
 },
 "nbformat": 4,
 "nbformat_minor": 0
}