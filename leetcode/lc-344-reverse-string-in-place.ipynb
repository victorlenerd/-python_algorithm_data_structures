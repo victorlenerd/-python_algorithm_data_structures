{
 "cells": [
  {
   "cell_type": "markdown",
   "metadata": {
    "collapsed": true,
    "pycharm": {
     "name": "#%% md\n"
    }
   },
   "source": [
    "Write a function that reverses a string. The input string is given as an array of characters char[].\n",
    "Do not allocate extra space for another array, you must do this by **modifying the input array in-place** with O(1) extra memory.\n",
    "You may assume all the characters consist of printable ascii characters.\n",
    "\n",
    "Example 1:\n",
    "```\n",
    "Input: [\"h\",\"e\",\"l\",\"l\",\"o\"]\n",
    "Output: [\"o\",\"l\",\"l\",\"e\",\"h\"]\n",
    "```\n",
    "Example 2:\n",
    "```\n",
    "Input: [\"H\",\"a\",\"n\",\"n\",\"a\",\"h\"]\n",
    "Output: [\"h\",\"a\",\"n\",\"n\",\"a\",\"H\"]\n",
    "```"
   ]
  },
  {
   "cell_type": "code",
   "execution_count": 10,
   "outputs": [
    {
     "name": "stdout",
     "output_type": "stream",
     "text": [
      "['o', 'l', 'l', 'e', 'h']\n",
      "['h', 'a', 'n', 'n', 'a', 'H']\n"
     ]
    }
   ],
   "source": [
    "from typing import List\n",
    "\n",
    "class Solution:\n",
    "\n",
    "    def swap(self, pos: int, stop: int, s: List[str]):\n",
    "        if pos == stop:\n",
    "            return\n",
    "\n",
    "        size = len(s) - 1\n",
    "\n",
    "        tmp = s[pos]\n",
    "        s[pos] = s[size - pos]\n",
    "        s[size - pos] = tmp\n",
    "\n",
    "        self.swap(pos + 1, stop, s)\n",
    "\n",
    "    def reverseString(self, s: List[str]) -> None:\n",
    "        if len(s) < 1:\n",
    "            return s\n",
    "\n",
    "        pivot: int = round(len(s) / 2)\n",
    "\n",
    "        self.swap(0, pivot, s)\n",
    "\n",
    "        return s\n",
    "\n",
    "input_one = [\"h\",\"e\",\"l\",\"l\",\"o\"]\n",
    "input_two = [\"H\",\"a\",\"n\",\"n\",\"a\",\"h\"]\n",
    "\n",
    "solution = Solution()\n",
    "\n",
    "output_one = solution.reverseString(input_one)\n",
    "output_two = solution.reverseString(input_two)\n",
    "\n",
    "print(output_one)\n",
    "print(output_two)"
   ],
   "metadata": {
    "collapsed": false,
    "pycharm": {
     "name": "#%%\n"
    }
   }
  }
 ],
 "metadata": {
  "kernelspec": {
   "display_name": "Python 3",
   "language": "python",
   "name": "python3"
  },
  "language_info": {
   "codemirror_mode": {
    "name": "ipython",
    "version": 2
   },
   "file_extension": ".py",
   "mimetype": "text/x-python",
   "name": "python",
   "nbconvert_exporter": "python",
   "pygments_lexer": "ipython2",
   "version": "2.7.6"
  }
 },
 "nbformat": 4,
 "nbformat_minor": 0
}