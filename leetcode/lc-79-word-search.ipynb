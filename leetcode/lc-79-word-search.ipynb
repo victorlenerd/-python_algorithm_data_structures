{
 "cells": [
  {
   "cell_type": "markdown",
   "metadata": {
    "collapsed": true,
    "pycharm": {
     "name": "#%% md\n"
    }
   },
   "source": [
    "Given a 2D board and a word, find if the word exists in the grid.\n",
    "\n",
    "The word can be constructed from letters of sequentially adjacent cell,\n",
    "where \"adjacent\" cells are those horizontally or vertically neighboring.\n",
    "The same letter cell may not be used more than once.\n",
    "\n",
    "Example:\n",
    "\n",
    "```\n",
    "board =\n",
    "[\n",
    "  ['A','B','C','E'],\n",
    "  ['S','F','C','S'],\n",
    "  ['A','D','E','E']\n",
    "]\n",
    "```\n",
    "\n",
    "Given word = `\"ABCCED\",` return true.\n",
    "Given word = `\"SEE\",` return true.\n",
    "Given word = `\"ABCB\",` return false.\n",
    "\n",
    "\n",
    "Constraints:\n",
    "\n",
    "board and word consists only of lowercase and uppercase English letters.\n",
    "* `1 <= board.length <= 200`\n",
    "* `1 <= board[i].length <= 200`\n",
    "* `1 <= word.length <= 10^3`\n"
   ]
  },
  {
   "cell_type": "code",
   "execution_count": 32,
   "outputs": [
    {
     "data": {
      "text/plain": "True"
     },
     "execution_count": 32,
     "metadata": {},
     "output_type": "execute_result"
    }
   ],
   "source": [
    "from typing import List, Tuple\n",
    "\n",
    "VISITED = '0'\n",
    "\n",
    "def is_valid_neighbour( x: int, y: int, board: List[List[str]]) -> bool:\n",
    "    if (0 <= x <= len(board) - 1) and (0 <= y <= len(board[0]) - 1):\n",
    "        char = board[x][y]\n",
    "        if char != VISITED:\n",
    "            return True\n",
    "\n",
    "    return False\n",
    "\n",
    "def get_valid_neighbours(x: int, y: int, board: List[List[str]]) -> List[Tuple[int, int]] :\n",
    "    deltas = [(0, 1), (1, 0), (0, -1), (-1, 0)]\n",
    "    neighbours = []\n",
    "\n",
    "    i = 0\n",
    "    m = len(deltas)\n",
    "\n",
    "    while i < m:\n",
    "        x2 = x + deltas[i][0]\n",
    "        y2 = y + deltas[i][1]\n",
    "\n",
    "        if is_valid_neighbour(x2, y2, board):\n",
    "            neighbours.append((x2, y2))\n",
    "        i += 1\n",
    "\n",
    "    return neighbours\n",
    "\n",
    "class Solution:\n",
    "\n",
    "    def search(self, x: int, y: int, word: str, board: List[List[str]]) -> bool:\n",
    "        if len(word) == 0:\n",
    "            return True\n",
    "\n",
    "        current_board_char = board[x][y]\n",
    "        word_next_char = word[0]\n",
    "        board[x][y] = VISITED\n",
    "\n",
    "        inner_match = False\n",
    "\n",
    "        if current_board_char == word_next_char:\n",
    "            if len(word[1:]) < 1:\n",
    "                inner_match = True\n",
    "            else:\n",
    "                neighbours = get_valid_neighbours(x, y, board)\n",
    "                for (x2, y2) in neighbours:\n",
    "                    if word[1] == board[x2][y2]:\n",
    "                        inner_match = self.search(x2, y2, word[1:], board)\n",
    "                        if inner_match:\n",
    "                            break\n",
    "\n",
    "        board[x][y] = current_board_char\n",
    "\n",
    "        return inner_match\n",
    "\n",
    "    def exist(self, board: List[List[str]], word: str) -> bool:\n",
    "        n = len(board) - 1\n",
    "        m = len(board[0]) - 1\n",
    "\n",
    "        i = 0\n",
    "\n",
    "        while i <= n:\n",
    "            j = 0\n",
    "            while j <= m:\n",
    "                found_match = self.search(i, j, word, board)\n",
    "                if found_match:\n",
    "                    return True\n",
    "                j += 1\n",
    "            i += 1\n",
    "\n",
    "        return False\n",
    "\n",
    "test_board = [\n",
    "    [\"C\",\"A\",\"A\"],\n",
    "    [\"A\",\"A\",\"A\"],\n",
    "    [\"B\",\"C\",\"D\"]\n",
    "]\n",
    "\n",
    "solution = Solution()\n",
    "\n",
    "solution.exist(test_board, \"AAB\")\n",
    "\n"
   ],
   "metadata": {
    "collapsed": false,
    "pycharm": {
     "name": "#%%\n"
    }
   }
  }
 ],
 "metadata": {
  "kernelspec": {
   "display_name": "Python 3",
   "language": "python",
   "name": "python3"
  },
  "language_info": {
   "codemirror_mode": {
    "name": "ipython",
    "version": 2
   },
   "file_extension": ".py",
   "mimetype": "text/x-python",
   "name": "python",
   "nbconvert_exporter": "python",
   "pygments_lexer": "ipython2",
   "version": "2.7.6"
  }
 },
 "nbformat": 4,
 "nbformat_minor": 0
}