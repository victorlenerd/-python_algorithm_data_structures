{
 "cells": [
  {
   "cell_type": "markdown",
   "metadata": {
    "collapsed": true,
    "pycharm": {
     "name": "#%% md\n"
    }
   },
   "source": [
    "Write a function to find the longest common prefix string amongst an array of strings.\n",
    "If there is no common prefix, return an empty string \"\".\n",
    "\n",
    "**Example 1:**\n",
    "```\n",
    "Input: [\"flower\",\"flow\",\"flight\"]\n",
    "Output: \"fl\"\n",
    "```\n",
    "\n",
    "**Example 2:**\n",
    "```\n",
    "Input: [\"dog\",\"racecar\",\"car\"]\n",
    "Output: \"\"\n",
    "Explanation: There is no common prefix among the input strings.\n",
    "```\n",
    "\n",
    "**Note:**\n",
    "All given inputs are in lowercase letters `a-z`."
   ]
  },
  {
   "cell_type": "code",
   "execution_count": 4,
   "outputs": [
    {
     "data": {
      "text/plain": "'fl'"
     },
     "execution_count": 4,
     "metadata": {},
     "output_type": "execute_result"
    }
   ],
   "source": [
    "import sys\n",
    "from typing import List\n",
    "\n",
    "class Solution:\n",
    "\n",
    "    def longestCommonPrefix(self, strs: List[str]) -> str:\n",
    "        lcp: str = \"\"\n",
    "        min_len = sys.maxsize\n",
    "        for s in strs:\n",
    "            if len(s) < min_len:\n",
    "                min_len = len(s)\n",
    "        i = 0\n",
    "        while i < min_len:\n",
    "            chars: List[str] = []\n",
    "            for s in strs:\n",
    "                chars.append(s[i])\n",
    "            j = 0\n",
    "            last_seen_char = chars[j]\n",
    "            while j < len(chars):\n",
    "                if last_seen_char != chars[j]:\n",
    "                    break\n",
    "                j += 1\n",
    "            if j < len(chars):\n",
    "                break\n",
    "            lcp += last_seen_char\n",
    "            i += 1\n",
    "\n",
    "        return lcp\n",
    "\n",
    "solution = Solution()\n",
    "input = [\"flower\",\"flow\",\"flight\"]\n",
    "solution.longestCommonPrefix(input)"
   ],
   "metadata": {
    "collapsed": false,
    "pycharm": {
     "name": "#%%\n"
    }
   }
  },
  {
   "cell_type": "code",
   "execution_count": null,
   "outputs": [],
   "source": [
    "\n"
   ],
   "metadata": {
    "collapsed": false,
    "pycharm": {
     "name": "#%%\n"
    }
   }
  }
 ],
 "metadata": {
  "kernelspec": {
   "display_name": "Python 3",
   "language": "python",
   "name": "python3"
  },
  "language_info": {
   "codemirror_mode": {
    "name": "ipython",
    "version": 2
   },
   "file_extension": ".py",
   "mimetype": "text/x-python",
   "name": "python",
   "nbconvert_exporter": "python",
   "pygments_lexer": "ipython2",
   "version": "2.7.6"
  }
 },
 "nbformat": 4,
 "nbformat_minor": 0
}