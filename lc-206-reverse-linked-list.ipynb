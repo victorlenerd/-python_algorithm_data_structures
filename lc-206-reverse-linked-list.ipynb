{
 "cells": [
  {
   "cell_type": "markdown",
   "metadata": {},
   "source": [
    "Reverse a singly linked list.\n",
    "\n",
    "**Example:**\n",
    "\n",
    "```\n",
    "Input: 1->2->3->4->5->NULL\n",
    "Output: 5->4->3->2->1->NULL\n",
    "```\n",
    "\n",
    "**Follow up:**\n",
    "\n",
    "A linked list can be reversed either iteratively or recursively. Could you implement both?"
   ]
  },
  {
   "cell_type": "code",
   "execution_count": 2,
   "metadata": {},
   "outputs": [
    {
     "name": "stdout",
     "output_type": "stream",
     "text": [
      "Test Node\n",
      "1 ->\n",
      "2 ->\n",
      "3 ->\n",
      "4 ->\n",
      "5 ->\n",
      "---------------------------\n",
      "Reversed Node\n",
      "5 ->\n",
      "4 ->\n",
      "3 ->\n",
      "2 ->\n",
      "1 ->\n"
     ]
    }
   ],
   "source": [
    "# Definition for singly-linked list.\n",
    "from typing import List\n",
    "\n",
    "class ListNode:\n",
    "    \n",
    "    def __init__(self, val=0, next=None):\n",
    "        self.val = val\n",
    "        self.next = next\n",
    "\n",
    "def printNode(node: ListNode):\n",
    "\n",
    "    if node is not None:\n",
    "        print(node.val, '->')\n",
    "        printNode(node.next)\n",
    "        \n",
    "class Solution:\n",
    "    \n",
    "    def moveNode(self, resultHead: ListNode, head: ListNode):\n",
    "        if head is None:\n",
    "            return resultHead\n",
    "\n",
    "        restNodes: ListNode = head.next\n",
    "\n",
    "        currentHeadNode: ListNode = head\n",
    "        currentHeadNode.next = resultHead\n",
    "\n",
    "        return self.moveNode(currentHeadNode, restNodes)\n",
    "    \n",
    "    def reverseList(self, head: ListNode) -> ListNode:\n",
    "        \n",
    "        if head is None:\n",
    "            return head\n",
    "\n",
    "        restNodes: ListNode = head.next\n",
    "\n",
    "        detachedHead: ListNode = head\n",
    "        detachedHead.next = None\n",
    "\n",
    "\n",
    "        resultHead = self.moveNode(detachedHead, restNodes)\n",
    "\n",
    "        return resultHead\n",
    "\n",
    "\n",
    "print('Test Node')\n",
    "testNode = ListNode(1, ListNode(2, ListNode(3, ListNode(4, ListNode(5)))))\n",
    "printNode(testNode)\n",
    "\n",
    "print('---------------------------')\n",
    "\n",
    "print('Reversed Node')\n",
    "s = Solution()\n",
    "reversedNode = s.reverseList(testNode)\n",
    "printNode(reversedNode)"
   ]
  },
  {
   "cell_type": "code",
   "execution_count": 3,
   "metadata": {},
   "outputs": [],
   "source": [
    "# def makeTestNode(test_data: List[int]) -> ListNode:\n",
    "#     node: ListNode = ListNode()\n",
    "        \n",
    "#     node.val = test_data[0]\n",
    "            \n",
    "#     for v in test_data[1:]:\n",
    "#         node.next = ListNode(v, None)\n",
    "        \n",
    "#     return node"
   ]
  }
 ],
 "metadata": {
  "kernelspec": {
   "display_name": "Python 3",
   "language": "python",
   "name": "python3"
  },
  "language_info": {
   "codemirror_mode": {
    "name": "ipython",
    "version": 3
   },
   "file_extension": ".py",
   "mimetype": "text/x-python",
   "name": "python",
   "nbconvert_exporter": "python",
   "pygments_lexer": "ipython3",
   "version": "3.7.6"
  }
 },
 "nbformat": 4,
 "nbformat_minor": 4
}