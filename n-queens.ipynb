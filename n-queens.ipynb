{
 "cells": [
  {
   "cell_type": "code",
   "execution_count": 1,
   "metadata": {},
   "outputs": [
    {
     "ename": "IndentationError",
     "evalue": "expected an indented block (<ipython-input-1-ab12f19009a4>, line 36)",
     "output_type": "error",
     "traceback": [
      "\u001b[0;36m  File \u001b[0;32m\"<ipython-input-1-ab12f19009a4>\"\u001b[0;36m, line \u001b[0;32m36\u001b[0m\n\u001b[0;31m    def remove_queen(self, row: int, col: int):\u001b[0m\n\u001b[0m      ^\u001b[0m\n\u001b[0;31mIndentationError\u001b[0m\u001b[0;31m:\u001b[0m expected an indented block\n"
     ]
    }
   ],
   "source": [
    "from typing import List\n",
    "\n",
    "class NQueen:\n",
    "\n",
    "    n: int\n",
    "    grid: List[List[int]]\n",
    "\n",
    "    def __init__(self, n):\n",
    "        self.n = n\n",
    "        self.create_grid(n)\n",
    "\n",
    "    def create_grid(self, n: int):\n",
    "        grid = [0] * n\n",
    "\n",
    "        for i in range(n):\n",
    "            grid[i] = [0] * n\n",
    "            for j in range(n):\n",
    "                grid[i][j] = 0\n",
    "\n",
    "        self.grid = grid\n",
    "\n",
    "    def print_grid(self):\n",
    "        print('--------------->')\n",
    "        print('grid:')\n",
    "        for i in range(self.n):\n",
    "            print(self.grid[i])\n",
    "        print('--------------->')\n",
    "\n",
    "    def place_queen(self, row: int, col: int):\n",
    "        # TODO:\n",
    "        #  mark all x-axis\n",
    "        #  mark all y-axis\n",
    "        #  mark all dia-hil axis\n",
    "        #  mark all dia-dale axis\n",
    "\n",
    "    def remove_queen(self, row: int, col: int):\n",
    "        # TODO:\n",
    "        #  unmark all x-axis\n",
    "        #  unmark all y-axis\n",
    "        #  unmark all dia-hil axis\n",
    "        #  unmark all dia-dale axis\n",
    "\n",
    "    def under_attack(self, row: int, col: int) -> bool:\n",
    "        # TODO:\n",
    "        # check marked x-axis\n",
    "        # check marked y-axis\n",
    "        # check marked dia-hil axis\n",
    "        # check marked dia-dale axis\n",
    "\n",
    "    def back_track(self, row: int, count: int) -> int:\n",
    "        for col in range(self.n):\n",
    "            print('--------------->')\n",
    "            print('row: ', row, 'col: ', col)\n",
    "            print('--------------->')\n",
    "            if not self.under_attack(row, col):\n",
    "                self.place_queen(row, col)\n",
    "                next_row = row + 1\n",
    "                if next_row == self.n:\n",
    "                    count += 1\n",
    "                else:\n",
    "                    print('--------------->')\n",
    "                    print('back tracking:', 'next_row :', next_row, 'count', count)\n",
    "                    print('--------------->')\n",
    "                    count = self.back_track(next_row, count)\n",
    "                self.remove_queen(row, col)\n",
    "\n",
    "        return count\n",
    "\n",
    "    def find_n_queen(self):\n",
    "        count = self.back_track(0, 0)\n",
    "\n",
    "        print('--------------->')\n",
    "        print('FINAL count: ', count)\n",
    "        print('--------------->')\n",
    "\n",
    "nQueen = NQueen(4)\n",
    "nQueen.find_n_queen()"
   ]
  },
  {
   "cell_type": "code",
   "execution_count": 4,
   "metadata": {},
   "outputs": [
    {
     "name": "stdout",
     "output_type": "stream",
     "text": [
      "Enumerating objects: 8, done.\n",
      "Counting objects: 100% (8/8), done.\n",
      "Delta compression using up to 12 threads\n",
      "Compressing objects: 100% (5/5), done.\n",
      "Writing objects: 100% (5/5), 3.86 KiB | 3.86 MiB/s, done.\n",
      "Total 5 (delta 3), reused 0 (delta 0)\n",
      "remote: Resolving deltas: 100% (3/3), completed with 3 local objects.\u001b[K\n",
      "To https://github.com/victorlenerd/python_dsa\n",
      "   592f204..5db1d6c  master -> master\n"
     ]
    }
   ],
   "source": [
    "! git push origin master"
   ]
  },
  {
   "cell_type": "code",
   "execution_count": null,
   "metadata": {},
   "outputs": [],
   "source": []
  }
 ],
 "metadata": {
  "kernelspec": {
   "display_name": "Python 3",
   "language": "python",
   "name": "python3"
  },
  "language_info": {
   "codemirror_mode": {
    "name": "ipython",
    "version": 3
   },
   "file_extension": ".py",
   "mimetype": "text/x-python",
   "name": "python",
   "nbconvert_exporter": "python",
   "pygments_lexer": "ipython3",
   "version": "3.7.6"
  }
 },
 "nbformat": 4,
 "nbformat_minor": 4
}
