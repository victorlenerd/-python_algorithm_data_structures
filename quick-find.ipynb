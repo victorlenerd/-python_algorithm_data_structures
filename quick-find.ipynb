{
 "cells": [
  {
   "cell_type": "markdown",
   "metadata": {
    "pycharm": {
     "name": "#%% md\n"
    }
   },
   "source": [
    "# Quick Find\n",
    "\n",
    "* Integer array ids[] of size N\n",
    "* Interpretation: P and Q are connected if and only if they've the same id."
   ]
  },
  {
   "cell_type": "code",
   "execution_count": 90,
   "metadata": {
    "collapsed": false,
    "jupyter": {
     "outputs_hidden": false
    },
    "pycharm": {
     "name": "#%%\n"
    }
   },
   "outputs": [],
   "source": [
    "from typing import List, Dict\n",
    "\n",
    "def predicate(grid: List[List[str]]):\n",
    "\n",
    "    m = len(grid)\n",
    "    n = len(grid[0])\n",
    "\n",
    "    for i in range(m):\n",
    "        for j in range(n):\n",
    "            print(i * n + j)"
   ]
  },
  {
   "cell_type": "code",
   "execution_count": 91,
   "metadata": {
    "collapsed": true,
    "jupyter": {
     "outputs_hidden": true
    }
   },
   "outputs": [],
   "source": [
    "class QuickFindUF:\n",
    "    ids: List[int] = []\n",
    "    count: int = 0\n",
    "    \n",
    "    def __init__(self, n: int):\n",
    "        self.count = 0\n",
    "        self.ids = []\n",
    "\n",
    "        for i in range(n):\n",
    "            self.ids.append(i)\n",
    "            \n",
    "    def connected(self, p: int, q: int):\n",
    "        self.validate(p)\n",
    "        self.validate(q)\n",
    "        \n",
    "        return self.ids[p] == self.ids[q]\n",
    "        \n",
    "    def validate(self, p: int):\n",
    "        if p < 0 or p >= len(self.ids):\n",
    "            raise Exception(\"index invalidation\" + p)\n",
    "        \n",
    "    def find(self, p) -> int:\n",
    "        self.validate(p)\n",
    "        return self.ids[p]\n",
    "    \n",
    "    def union(self, p, q):\n",
    "        self.validate(p)\n",
    "        self.validate(q)\n",
    "        \n",
    "        p_id = self.find(p)\n",
    "        q_id = self.find(q)\n",
    "        \n",
    "        if not self.connected(p, q):\n",
    "            for i in range(len(self.ids)):\n",
    "                if self.ids[i] == p_id:\n",
    "                    self.ids[i] = q_id\n",
    "                        \n",
    "            self.count = self.count + 1"
   ]
  },
  {
   "cell_type": "markdown",
   "metadata": {
    "pycharm": {
     "name": "#%% md\n"
    }
   },
   "source": [
    "## Number of Islands\n",
    "\n",
    "Given a 2d grid map of '1's (land) and '0's (water), count the number of islands. An island is surrounded by water and is formed by connecting adjacent lands horizontally or vertically. You may assume all four edges of the grid are all surrounded by water.\n",
    "\n",
    "LC Link: https://leetcode.com/problems/number-of-islands/\n"
   ]
  },
  {
   "cell_type": "code",
   "execution_count": 92,
   "metadata": {
    "collapsed": false,
    "jupyter": {
     "outputs_hidden": false
    },
    "pycharm": {
     "name": "#%%\n"
    }
   },
   "outputs": [],
   "source": [
    "class Solution:\n",
    "    \n",
    "    grid: List[List[str]]\n",
    "    uf: QuickFindUF\n",
    "    m: int\n",
    "    n: int\n",
    "    \n",
    "    def is_valid_cell(self, x: int, y: int):\n",
    "        return 0 <= x < self.m and 0 <= y < self.n\n",
    "    \n",
    "    def connect_neighbours(self, x: int, y: int):\n",
    "        deltas: List[List[int]] = [\n",
    "            [1, 0],[-1, 0],\n",
    "            [0, 1],[0, -1]\n",
    "        ]\n",
    "        \n",
    "        for i in range(len(deltas)):\n",
    "            x2 = x + deltas[i][0]\n",
    "            y2 = y + deltas[i][1]\n",
    "\n",
    "            if self.is_valid_cell(x2, y) and self.grid[x2][y] == '1':\n",
    "                self.uf.union(x2 * self.n + y, x * self.n + y)\n",
    "\n",
    "            if self.is_valid_cell(x, y2) and self.grid[x][y2] == '1':\n",
    "                self.uf.union(x * self.n + y2, x * self.n + y)\n",
    "\n",
    "    def num_islands(self, grid: List[List[str]]) -> int:\n",
    "        self.grid = grid\n",
    "        \n",
    "        self.m = len(grid)    \n",
    "        self.n = len(grid[0])\n",
    "        \n",
    "        self.uf = QuickFindUF(self.m * self.n)\n",
    "\n",
    "        islands = {}\n",
    "\n",
    "        for i in range(self.m):\n",
    "            for j in range(self.n):\n",
    "                if self.grid[i][j] == '1':\n",
    "                    self.connect_neighbours(i, j)\n",
    "\n",
    "        for i in range(self.m):\n",
    "            for j in range(self.n):\n",
    "                if self.grid[i][j] == '1':\n",
    "                    pos = i * self.n + j\n",
    "                    land_id = self.uf.find(pos)\n",
    "                    if land_id not in islands:\n",
    "                        islands[land_id] = pos\n",
    "\n",
    "        return len(islands)"
   ]
  },
  {
   "cell_type": "code",
   "execution_count": 93,
   "metadata": {
    "collapsed": false,
    "jupyter": {
     "outputs_hidden": false
    },
    "pycharm": {
     "name": "#%%\n"
    }
   },
   "outputs": [
    {
     "name": "stdout",
     "output_type": "stream",
     "text": [
      "num_of_island_one 1\n",
      "num_of_island_two 3\n",
      "num_of_island_three 1\n"
     ]
    }
   ],
   "source": [
    "test_case_one = [\n",
    "    [\"1\",\"1\",\"1\",\"1\",\"0\"],\n",
    "    [\"1\",\"1\",\"0\",\"1\",\"0\"],\n",
    "    [\"1\",\"1\",\"0\",\"0\",\"0\"],\n",
    "    [\"0\",\"0\",\"0\",\"0\",\"0\"]\n",
    "]\n",
    "\n",
    "test_case_two = [\n",
    "    [\"1\",\"1\",\"0\",\"0\",\"0\"],\n",
    "    [\"1\",\"1\",\"0\",\"0\",\"0\"],\n",
    "    [\"0\",\"0\",\"1\",\"0\",\"0\"],\n",
    "    [\"0\",\"0\",\"0\",\"1\",\"1\"]\n",
    "]\n",
    "\n",
    "test_case_three = [\n",
    "    [\"1\", \"1\", \"1\"],\n",
    "    [\"0\", \"1\", \"0\"],\n",
    "    [\"1\", \"1\", \"1\"]\n",
    "]\n",
    "\n",
    "s = Solution()\n",
    "num_of_island_one = s.num_islands(test_case_one)\n",
    "print(\"num_of_island_one\", num_of_island_one)\n",
    "\n",
    "s2 = Solution()\n",
    "num_of_island_two = s2.num_islands(test_case_two)\n",
    "print(\"num_of_island_two\", num_of_island_two)\n",
    "\n",
    "s3 = Solution()\n",
    "num_of_island_three = s3.num_islands(test_case_three)\n",
    "print(\"num_of_island_three\", num_of_island_three)"
   ]
  },
  {
   "cell_type": "markdown",
   "metadata": {
    "pycharm": {
     "name": "#%% md\n"
    }
   },
   "source": [
    "## Quick Union\n",
    "\n",
    "* Integer array ids[] of size N\n",
    "* Interpretation ids[p] is parent of Pg\n",
    "* **Root** of p is ids[ids[...ids[p]...]]"
   ]
  },
  {
   "cell_type": "code",
   "execution_count": 94,
   "metadata": {
    "collapsed": false,
    "jupyter": {
     "outputs_hidden": false
    },
    "pycharm": {
     "name": "#%%\n"
    }
   },
   "outputs": [],
   "source": [
    "class QuickUnionUF:\n",
    "    ids: List[int] = []\n",
    "\n",
    "    def __init__(self, n: int):\n",
    "        self.ids = []\n",
    "\n",
    "        for i in range(n):\n",
    "            self.ids.append(i)\n",
    "\n",
    "    def connected(self, p: int, q: int):\n",
    "        self.validate(p)\n",
    "        self.validate(q)\n",
    "\n",
    "        return self.root(p) == self.root(q)\n",
    "\n",
    "    def validate(self, p: int):\n",
    "        if p < 0 or p >= len(self.ids):\n",
    "            raise Exception(\"index invalidation\" + p)\n",
    "\n",
    "    def root(self, p: int) -> int:\n",
    "        i = p\n",
    "        while i != self.ids[i]:\n",
    "            i = self.ids[i]\n",
    "\n",
    "        return i\n",
    "\n",
    "    def union(self, p, q):\n",
    "        self.validate(p)\n",
    "        self.validate(q)\n",
    "\n",
    "        if not self.connected(p, q):\n",
    "            p_id = self.root(p)\n",
    "            q_id = self.root(q)\n",
    "\n",
    "            self.ids[p_id] = q_id"
   ]
  }
 ],
 "metadata": {
  "kernelspec": {
   "display_name": "Python 3",
   "language": "python",
   "name": "python3"
  },
  "language_info": {
   "codemirror_mode": {
    "name": "ipython",
    "version": 3
   },
   "file_extension": ".py",
   "mimetype": "text/x-python",
   "name": "python",
   "nbconvert_exporter": "python",
   "pygments_lexer": "ipython3",
   "version": "3.7.6"
  }
 },
 "nbformat": 4,
 "nbformat_minor": 4
}
